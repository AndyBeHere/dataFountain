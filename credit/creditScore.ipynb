{
 "cells": [
  {
   "cell_type": "markdown",
   "metadata": {},
   "source": [
    "### for test"
   ]
  },
  {
   "cell_type": "code",
   "execution_count": 7,
   "metadata": {},
   "outputs": [
    {
     "name": "stdout",
     "output_type": "stream",
     "text": [
      "训练集样本大小(50000, 30),测试集样本大小(50000, 29)\n"
     ]
    }
   ],
   "source": [
    "import numpy as np\n",
    "import pandas as pd\n",
    "import matplotlib.pyplot as plt\n",
    "import seaborn as sns\n",
    "from sklearn.utils import shuffle\n",
    "from sklearn import ensemble, tree, linear_model\n",
    "from sklearn.cross_validation import train_test_split, cross_val_score\n",
    "from sklearn.metrics import r2_score, mean_squared_error\n",
    "import matplotlib as mpl\n",
    "import matplotlib.pyplot as plt\n",
    "import scipy\n",
    "sns.set(font='SimHei')  # 解决Seaborn中文显示问题\n",
    "\n",
    "data_train = pd.read_csv('./train_dataset/train_dataset.csv')\n",
    "data_test = pd.read_csv('./test_dataset/test_dataset.csv')\n",
    "print('训练集样本大小{0},测试集样本大小{1}'.format(data_train.shape, data_test.shape))\n",
    "\n",
    "#data_train.info()"
   ]
  },
  {
   "cell_type": "code",
   "execution_count": 2,
   "metadata": {},
   "outputs": [
    {
     "data": {
      "text/plain": [
       "[2, 6, 8, 9, 10, 11, 14, 16, 22, 24, 25]"
      ]
     },
     "execution_count": 2,
     "metadata": {},
     "output_type": "execute_result"
    }
   ],
   "source": [
    "### shift char or int\n",
    "ord('K')-ord('A')\n",
    "\n",
    "def order1(list1):\n",
    "    ans = [];\n",
    "    for item in list1:\n",
    "        ans.append(ord(item)-ord('A'));\n",
    "    return ans\n",
    "        \n",
    "order1(['C','G','I','J','K','L','O','Q','W','Y','Z'])"
   ]
  },
  {
   "cell_type": "code",
   "execution_count": 9,
   "metadata": {},
   "outputs": [],
   "source": [
    "# 特征工程\n",
    "### 逐一查看数据特征\n",
    "#explore the dataset\n",
    "sns.set(style=\"whitegrid\",color_codes=True)\n",
    "sns.set(font_scale=1)\n",
    "#spliting to features and lables and deleting variable I don't need\n",
    "train_labels=data_train.pop('信用分')\n",
    "features=pd.concat([data_train,data_test],keys=['train','test'])"
   ]
  },
  {
   "cell_type": "code",
   "execution_count": 10,
   "metadata": {},
   "outputs": [
    {
     "name": "stderr",
     "output_type": "stream",
     "text": [
      "E:\\conda\\lib\\site-packages\\scipy\\stats\\stats.py:1713: FutureWarning: Using a non-tuple sequence for multidimensional indexing is deprecated; use `arr[tuple(seq)]` instead of `arr[seq]`. In the future this will be interpreted as an array index, `arr[np.array(seq)]`, which will result either in an error or a different result.\n",
      "  return np.add.reduce(sorted[indexer] * weights, axis=axis) / sumval\n"
     ]
    },
    {
     "data": {
      "text/plain": [
       "Text(0,0.5,'人 数')"
      ]
     },
     "execution_count": 10,
     "metadata": {},
     "output_type": "execute_result"
    },
    {
     "data": {
      "image/png": "[encoded data removed]",
      "text/plain": [
       "<Figure size 1800x1440 with 1 Axes>"
      ]
     },
     "metadata": {
      "needs_background": "light"
     },
     "output_type": "display_data"
    }
   ],
   "source": [
    "plt.style.use('ggplot')\n",
    "fig = plt.figure(figsize = (25,20))\n",
    "\n",
    "\n",
    "# plt.rcParams[\"figure.titlesize\"] = 'medium'\n",
    "plt.rcParams[\"legend.fontsize\"] = 'medium'\n",
    "plt.rcParams['axes.titlepad'] = 15\n",
    "plt.rcParams[\"font.size\"] = 20\n",
    "plt.rcParams['font.sans-serif']=['SimHei']\n",
    "plt.rcParams['axes.unicode_minus'] = False\n",
    "\n",
    "# data visualization\n",
    "fig.patch.set_facecolor('blue')\n",
    "fig.patch.set_alpha(0.2)\n",
    "plt.subplots_adjust(wspace =0.5, hspace =0.5)#调整子图间距\n",
    "\n",
    "\n",
    "# f1: label的分布\n",
    "plt.subplot2grid((3,4),(0,0))\n",
    "sns.distplot(train_labels)\n",
    "plt.title(u'获 救 情 况')\n",
    "plt.ylabel(u'人 数')\n",
    "\n",
    "# # 第二幅图展示不同等级乘客分布\n",
    "# plt.subplot2grid((3,4),(0,1))\n",
    "# dataset_train.Sex.value_counts().plot(kind='bar')\n",
    "# plt.ylabel(u\"人数\")\n",
    "# plt.title(u\"乘客性别分布\")\n",
    "\n",
    "# # 第二幅图展示不同等级乘客分布\n",
    "# plt.subplot2grid((3,4),(0,2))\n",
    "# dataset_train.Pclass.value_counts().plot(kind='bar')\n",
    "# plt.ylabel(u\"人数\")\n",
    "# plt.title(u\"乘客等级分布\")\n",
    "\n",
    "# # 展示各登岸口人数分布\n",
    "# plt.subplot2grid((3,4),(0,3))\n",
    "# dataset_train.Embarked.value_counts().plot(kind='bar')\n",
    "# plt.title(u\"各登船口岸人数\")\n",
    "# plt.ylabel(u\"人数\")\n",
    "\n",
    "# # 第三幅图展示幸存与死亡者的年龄分布\n",
    "# plt.subplot2grid((3,3),(1,0))\n",
    "# # plt.scatter(dataset_train.Survived,dataset_train.Age)\n",
    "# dataset_train.Age[dataset_train.Survived == 1].plot(kind='kde')\n",
    "# dataset_train.Age[dataset_train.Survived == 0].plot(kind='kde')\n",
    "# plt.title(u'幸存与死亡者年龄分布')\n",
    "# plt.xlabel(u\"年龄\")\n",
    "# plt.ylabel(u\"密度\")\n",
    "# plt.legend((u'幸存者',u'死亡者'),loc='best')\n",
    "\n",
    "# # 第四幅图展示各等级乘客的年龄分布\n",
    "# plt.subplot2grid((3,3),(1,1),colspan=2)\n",
    "# dataset_train.Age[dataset_train.Pclass == 1].plot(kind='kde')\n",
    "# dataset_train.Age[dataset_train.Pclass == 2].plot(kind='kde')\n",
    "# dataset_train.Age[dataset_train.Pclass == 3].plot(kind='kde')\n",
    "# plt.xlabel(u\"年龄\")\n",
    "# plt.ylabel(u\"密度\")\n",
    "# plt.title(u\"各等级的乘客年龄分布\")\n",
    "# plt.legend((u'头等舱',u'2等舱',u'3等舱'),loc='best')\n",
    "\n",
    "# #第三幅图展示幸存与死亡者的性别分布\n",
    "# plt.subplot2grid((3,3),(2,0))\n",
    "# x = np.array(dataset_train.Sex[dataset_train.Survived == 1])\n",
    "# y = np.array(dataset_train.Sex[dataset_train.Survived == 0])\n",
    "# plt.hist([x,y], histtype='bar')\n",
    "# plt.title(u'幸存与死亡者的性别分布')\n",
    "# plt.xlabel(u\"性别\")\n",
    "# plt.ylabel(u\"人数\")\n",
    "# plt.legend((u'幸存者',u'死亡者'),loc='best')\n",
    "\n",
    "# #第三幅图展示幸存与死亡者的船舱等级分布\n",
    "# plt.subplot2grid((3,3),(2,1))\n",
    "# x = np.array(dataset_train.Pclass[dataset_train.Survived == 1])\n",
    "# y = np.array(dataset_train.Pclass[dataset_train.Survived == 0])\n",
    "# plt.hist([x,y], histtype='bar')\n",
    "# plt.title(u'幸存与死亡者的性别分布')\n",
    "# plt.xlabel(u\"船舱等级\")\n",
    "# plt.ylabel(u\"人数\")\n",
    "# plt.legend((u'幸存者',u'死亡者'),loc='best')\n",
    "\n"
   ]
  },
  {
   "cell_type": "code",
   "execution_count": null,
   "metadata": {},
   "outputs": [],
   "source": []
  }
 ],
 "metadata": {
  "kernelspec": {
   "display_name": "Python 3",
   "language": "python",
   "name": "python3"
  },
  "language_info": {
   "codemirror_mode": {
    "name": "ipython",
    "version": 3
   },
   "file_extension": ".py",
   "mimetype": "text/x-python",
   "name": "python",
   "nbconvert_exporter": "python",
   "pygments_lexer": "ipython3",
   "version": "3.7.0"
  }
 },
 "nbformat": 4,
 "nbformat_minor": 2
}
